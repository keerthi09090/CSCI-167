{
  "cells": [
    {
      "cell_type": "markdown",
      "metadata": {
        "id": "view-in-github",
        "colab_type": "text"
      },
      "source": [
        "<a href=\"https://colab.research.google.com/github/keerthi09090/CSCI-167/blob/main/Notebook_8_1.ipynb\" target=\"_parent\"><img src=\"https://colab.research.google.com/assets/colab-badge.svg\" alt=\"Open In Colab\"/></a>"
      ]
    },
    {
      "cell_type": "markdown",
      "metadata": {
        "id": "L6chybAVFJW2"
      },
      "source": [
        "# **Notebook 8.1: MNIST_1D_Performance**\n",
        "\n",
        "This notebook runs a simple neural network on the MNIST1D dataset as in figure 8.2a. It uses code from https://github.com/greydanus/mnist1d to generate the data.\n",
        "\n",
        "Work through the cells below, running each cell in turn. In various places you will see the words \"TODO\". Follow the instructions at these places and make predictions about what is going to happen or write code to complete the functions.\n",
        "\n",
        "Contact me at udlbookmail@gmail.com if you find any mistakes or have any suggestions."
      ]
    },
    {
      "cell_type": "code",
      "execution_count": 10,
      "metadata": {
        "id": "ifVjS4cTOqKz",
        "colab": {
          "base_uri": "https://localhost:8080/"
        },
        "outputId": "2a885452-eb8a-490c-c2e6-a0f1366eecb4"
      },
      "outputs": [
        {
          "output_type": "stream",
          "name": "stdout",
          "text": [
            "Collecting git+https://github.com/greydanus/mnist1d\n",
            "  Cloning https://github.com/greydanus/mnist1d to /tmp/pip-req-build-4lnu2sky\n",
            "  Running command git clone --filter=blob:none --quiet https://github.com/greydanus/mnist1d /tmp/pip-req-build-4lnu2sky\n",
            "  Resolved https://github.com/greydanus/mnist1d to commit 7878d96082abd200c546a07a4101fa90b30fdf7e\n",
            "  Installing build dependencies ... \u001b[?25l\u001b[?25hdone\n",
            "  Getting requirements to build wheel ... \u001b[?25l\u001b[?25hdone\n",
            "  Preparing metadata (pyproject.toml) ... \u001b[?25l\u001b[?25hdone\n",
            "Requirement already satisfied: requests in /usr/local/lib/python3.12/dist-packages (from mnist1d==0.0.2.post16) (2.32.4)\n",
            "Requirement already satisfied: numpy in /usr/local/lib/python3.12/dist-packages (from mnist1d==0.0.2.post16) (2.0.2)\n",
            "Requirement already satisfied: matplotlib in /usr/local/lib/python3.12/dist-packages (from mnist1d==0.0.2.post16) (3.10.0)\n",
            "Requirement already satisfied: scipy in /usr/local/lib/python3.12/dist-packages (from mnist1d==0.0.2.post16) (1.16.2)\n",
            "Requirement already satisfied: contourpy>=1.0.1 in /usr/local/lib/python3.12/dist-packages (from matplotlib->mnist1d==0.0.2.post16) (1.3.3)\n",
            "Requirement already satisfied: cycler>=0.10 in /usr/local/lib/python3.12/dist-packages (from matplotlib->mnist1d==0.0.2.post16) (0.12.1)\n",
            "Requirement already satisfied: fonttools>=4.22.0 in /usr/local/lib/python3.12/dist-packages (from matplotlib->mnist1d==0.0.2.post16) (4.60.1)\n",
            "Requirement already satisfied: kiwisolver>=1.3.1 in /usr/local/lib/python3.12/dist-packages (from matplotlib->mnist1d==0.0.2.post16) (1.4.9)\n",
            "Requirement already satisfied: packaging>=20.0 in /usr/local/lib/python3.12/dist-packages (from matplotlib->mnist1d==0.0.2.post16) (25.0)\n",
            "Requirement already satisfied: pillow>=8 in /usr/local/lib/python3.12/dist-packages (from matplotlib->mnist1d==0.0.2.post16) (11.3.0)\n",
            "Requirement already satisfied: pyparsing>=2.3.1 in /usr/local/lib/python3.12/dist-packages (from matplotlib->mnist1d==0.0.2.post16) (3.2.5)\n",
            "Requirement already satisfied: python-dateutil>=2.7 in /usr/local/lib/python3.12/dist-packages (from matplotlib->mnist1d==0.0.2.post16) (2.9.0.post0)\n",
            "Requirement already satisfied: charset_normalizer<4,>=2 in /usr/local/lib/python3.12/dist-packages (from requests->mnist1d==0.0.2.post16) (3.4.3)\n",
            "Requirement already satisfied: idna<4,>=2.5 in /usr/local/lib/python3.12/dist-packages (from requests->mnist1d==0.0.2.post16) (3.10)\n",
            "Requirement already satisfied: urllib3<3,>=1.21.1 in /usr/local/lib/python3.12/dist-packages (from requests->mnist1d==0.0.2.post16) (2.5.0)\n",
            "Requirement already satisfied: certifi>=2017.4.17 in /usr/local/lib/python3.12/dist-packages (from requests->mnist1d==0.0.2.post16) (2025.10.5)\n",
            "Requirement already satisfied: six>=1.5 in /usr/local/lib/python3.12/dist-packages (from python-dateutil>=2.7->matplotlib->mnist1d==0.0.2.post16) (1.17.0)\n"
          ]
        }
      ],
      "source": [
        "# Run this if you're in a Colab to install MNIST 1D repository\n",
        "%pip install git+https://github.com/greydanus/mnist1d"
      ]
    },
    {
      "cell_type": "code",
      "execution_count": 11,
      "metadata": {
        "id": "qyE7G1StPIqO"
      },
      "outputs": [],
      "source": [
        "import torch, torch.nn as nn\n",
        "from torch.utils.data import TensorDataset, DataLoader\n",
        "from torch.optim.lr_scheduler import StepLR\n",
        "import numpy as np\n",
        "import matplotlib.pyplot as plt\n",
        "import mnist1d"
      ]
    },
    {
      "cell_type": "markdown",
      "metadata": {
        "id": "F7LNq72SP6jO"
      },
      "source": [
        "Let's generate a training and test dataset using the MNIST1D code.  The dataset gets saved as a .pkl file so it doesn't have to be regenerated each time."
      ]
    },
    {
      "cell_type": "code",
      "execution_count": 12,
      "metadata": {
        "id": "YLxf7dJfPaqw",
        "colab": {
          "base_uri": "https://localhost:8080/"
        },
        "outputId": "7e3b1bb1-caa3-4da3-8a8a-93171bcb712c"
      },
      "outputs": [
        {
          "output_type": "stream",
          "name": "stdout",
          "text": [
            "Successfully loaded data from ./mnist1d_data.pkl\n",
            "Examples in training set: 4000\n",
            "Examples in test set: 1000\n",
            "Length of each example: 40\n"
          ]
        }
      ],
      "source": [
        "args = mnist1d.data.get_dataset_args()\n",
        "data = mnist1d.data.get_dataset(args, path='./mnist1d_data.pkl', download=False, regenerate=False)\n",
        "\n",
        "# The training and test input and outputs are in\n",
        "# data['x'], data['y'], data['x_test'], and data['y_test']\n",
        "print(\"Examples in training set: {}\".format(len(data['y'])))\n",
        "print(\"Examples in test set: {}\".format(len(data['y_test'])))\n",
        "print(\"Length of each example: {}\".format(data['x'].shape[-1]))"
      ]
    },
    {
      "cell_type": "code",
      "execution_count": 13,
      "metadata": {
        "id": "FxaB5vc0uevl",
        "colab": {
          "base_uri": "https://localhost:8080/"
        },
        "outputId": "a42b0a7f-17b8-4f94-fb68-643e0b55c8c6"
      },
      "outputs": [
        {
          "output_type": "stream",
          "name": "stdout",
          "text": [
            "Initializing layer\n",
            "Initializing layer\n",
            "Initializing layer\n",
            "Initializing layer\n",
            "Initializing layer\n",
            "Initializing layer\n"
          ]
        },
        {
          "output_type": "execute_result",
          "data": {
            "text/plain": [
              "Sequential(\n",
              "  (0): Linear(in_features=40, out_features=4000, bias=True)\n",
              "  (1): ReLU()\n",
              "  (2): Linear(in_features=4000, out_features=4000, bias=True)\n",
              "  (3): ReLU()\n",
              "  (4): Linear(in_features=4000, out_features=10, bias=True)\n",
              ")"
            ]
          },
          "metadata": {},
          "execution_count": 13
        }
      ],
      "source": [
        "D_i = 40    # Input dimensions\n",
        "D_k = 4000   # Hidden dimensions\n",
        "D_o = 10    # Output dimensions\n",
        "# TO DO:\n",
        "# Define a model with two hidden layers of size 100\n",
        "# And ReLU activations between them\n",
        "# Replace this line (see Figure 7.8 of book for help):\n",
        "model = nn.Sequential(\n",
        "    nn.Linear(D_i, D_k),\n",
        "    nn.ReLU(),\n",
        "    nn.Linear(D_k, D_k),\n",
        "    nn.ReLU(),\n",
        "    nn.Linear(D_k, D_o)\n",
        ")\n",
        "\n",
        "\n",
        "def weights_init(layer_in):\n",
        "  # TO DO:\n",
        "  # Initialize the parameters with He initialization\n",
        "  # Replace this line (see figure 7.8 of book for help)\n",
        "  if isinstance(layer_in, nn.Linear):\n",
        "    nn.init.kaiming_normal_(layer_in.weight)\n",
        "    layer_in.bias.data.fill_(0.0)\n",
        "  print(\"Initializing layer\")\n",
        "\n",
        "\n",
        "# Call the function you just defined\n",
        "model.apply(weights_init)\n"
      ]
    },
    {
      "cell_type": "code",
      "execution_count": 14,
      "metadata": {
        "id": "_rX6N3VyyQTY",
        "colab": {
          "base_uri": "https://localhost:8080/"
        },
        "outputId": "d5bcdef4-1af2-4a51-b7f4-dcf4b69b1376"
      },
      "outputs": [
        {
          "output_type": "stream",
          "name": "stdout",
          "text": [
            "Initializing layer\n",
            "Initializing layer\n",
            "Initializing layer\n",
            "Initializing layer\n",
            "Initializing layer\n",
            "Initializing layer\n",
            "Epoch     0, train loss 1.382383, train error 51.20,  test loss 1.518114, test error 60.80\n",
            "Epoch     1, train loss 1.135425, train error 41.33,  test loss 1.345674, test error 50.80\n",
            "Epoch     2, train loss 0.914261, train error 34.50,  test loss 1.250862, test error 49.30\n",
            "Epoch     3, train loss 0.742325, train error 27.12,  test loss 1.193223, test error 44.20\n",
            "Epoch     4, train loss 0.615010, train error 21.93,  test loss 1.160138, test error 42.30\n",
            "Epoch     5, train loss 0.481768, train error 16.75,  test loss 1.114206, test error 39.70\n",
            "Epoch     6, train loss 0.492563, train error 17.50,  test loss 1.303116, test error 43.50\n",
            "Epoch     7, train loss 0.362136, train error 13.93,  test loss 1.281788, test error 39.60\n",
            "Epoch     8, train loss 0.300069, train error 10.15,  test loss 1.289812, test error 37.10\n",
            "Epoch     9, train loss 0.233185, train error 8.05,  test loss 1.311784, test error 35.80\n",
            "Epoch    10, train loss 0.071186, train error 1.38,  test loss 1.120883, test error 33.00\n",
            "Epoch    11, train loss 0.032395, train error 0.18,  test loss 1.155674, test error 33.10\n",
            "Epoch    12, train loss 0.017216, train error 0.00,  test loss 1.165108, test error 32.20\n",
            "Epoch    13, train loss 0.013084, train error 0.00,  test loss 1.200392, test error 32.20\n",
            "Epoch    14, train loss 0.010293, train error 0.00,  test loss 1.232439, test error 32.20\n",
            "Epoch    15, train loss 0.008631, train error 0.00,  test loss 1.237321, test error 31.90\n",
            "Epoch    16, train loss 0.007622, train error 0.00,  test loss 1.254401, test error 31.80\n",
            "Epoch    17, train loss 0.006842, train error 0.00,  test loss 1.266028, test error 31.80\n",
            "Epoch    18, train loss 0.006156, train error 0.00,  test loss 1.279105, test error 31.30\n",
            "Epoch    19, train loss 0.005671, train error 0.00,  test loss 1.284760, test error 31.40\n",
            "Epoch    20, train loss 0.005435, train error 0.00,  test loss 1.293306, test error 31.10\n",
            "Epoch    21, train loss 0.005238, train error 0.00,  test loss 1.295261, test error 31.10\n",
            "Epoch    22, train loss 0.005058, train error 0.00,  test loss 1.300076, test error 31.10\n",
            "Epoch    23, train loss 0.004885, train error 0.00,  test loss 1.302693, test error 31.30\n",
            "Epoch    24, train loss 0.004732, train error 0.00,  test loss 1.307550, test error 31.30\n",
            "Epoch    25, train loss 0.004584, train error 0.00,  test loss 1.309439, test error 31.30\n",
            "Epoch    26, train loss 0.004447, train error 0.00,  test loss 1.314463, test error 31.20\n",
            "Epoch    27, train loss 0.004317, train error 0.00,  test loss 1.317642, test error 31.60\n",
            "Epoch    28, train loss 0.004193, train error 0.00,  test loss 1.320771, test error 31.50\n",
            "Epoch    29, train loss 0.004080, train error 0.00,  test loss 1.325070, test error 31.50\n",
            "Epoch    30, train loss 0.004023, train error 0.00,  test loss 1.326344, test error 31.50\n",
            "Epoch    31, train loss 0.003968, train error 0.00,  test loss 1.328130, test error 31.60\n",
            "Epoch    32, train loss 0.003916, train error 0.00,  test loss 1.330558, test error 31.50\n",
            "Epoch    33, train loss 0.003867, train error 0.00,  test loss 1.331706, test error 31.60\n",
            "Epoch    34, train loss 0.003817, train error 0.00,  test loss 1.332931, test error 31.50\n",
            "Epoch    35, train loss 0.003770, train error 0.00,  test loss 1.334378, test error 31.70\n",
            "Epoch    36, train loss 0.003722, train error 0.00,  test loss 1.335649, test error 31.70\n",
            "Epoch    37, train loss 0.003678, train error 0.00,  test loss 1.337824, test error 31.70\n",
            "Epoch    38, train loss 0.003633, train error 0.00,  test loss 1.339022, test error 31.70\n",
            "Epoch    39, train loss 0.003590, train error 0.00,  test loss 1.340185, test error 31.70\n",
            "Epoch    40, train loss 0.003568, train error 0.00,  test loss 1.341094, test error 31.70\n",
            "Epoch    41, train loss 0.003547, train error 0.00,  test loss 1.341761, test error 31.70\n",
            "Epoch    42, train loss 0.003526, train error 0.00,  test loss 1.342457, test error 31.60\n",
            "Epoch    43, train loss 0.003506, train error 0.00,  test loss 1.343214, test error 31.60\n",
            "Epoch    44, train loss 0.003486, train error 0.00,  test loss 1.343895, test error 31.60\n",
            "Epoch    45, train loss 0.003466, train error 0.00,  test loss 1.344617, test error 31.60\n",
            "Epoch    46, train loss 0.003446, train error 0.00,  test loss 1.345070, test error 31.60\n",
            "Epoch    47, train loss 0.003426, train error 0.00,  test loss 1.345889, test error 31.60\n",
            "Epoch    48, train loss 0.003407, train error 0.00,  test loss 1.346568, test error 31.60\n",
            "Epoch    49, train loss 0.003388, train error 0.00,  test loss 1.347247, test error 31.60\n"
          ]
        }
      ],
      "source": [
        "# choose cross entropy loss function (equation 5.24)\n",
        "loss_function = torch.nn.CrossEntropyLoss()\n",
        "# construct SGD optimizer and initialize learning rate and momentum\n",
        "optimizer = torch.optim.SGD(model.parameters(), lr = 0.05, momentum=0.9)\n",
        "# object that decreases learning rate by half every 10 epochs\n",
        "scheduler = StepLR(optimizer, step_size=10, gamma=0.5)\n",
        "x_train = torch.tensor(data['x'].astype('float32'))\n",
        "y_train = torch.tensor(data['y'].transpose().astype('int64'))\n",
        "x_test= torch.tensor(data['x_test'].astype('float32'))\n",
        "y_test = torch.tensor(data['y_test'].astype('int64'))\n",
        "\n",
        "# load the data into a class that creates the batches\n",
        "data_loader = DataLoader(TensorDataset(x_train,y_train), batch_size=100, shuffle=True, worker_init_fn=np.random.seed(1))\n",
        "\n",
        "# Initialize model weights\n",
        "model.apply(weights_init)\n",
        "\n",
        "# loop over the dataset n_epoch times\n",
        "n_epoch = 50\n",
        "# store the loss and the % correct at each epoch\n",
        "losses_train = np.zeros((n_epoch))\n",
        "errors_train = np.zeros((n_epoch))\n",
        "losses_test = np.zeros((n_epoch))\n",
        "errors_test = np.zeros((n_epoch))\n",
        "\n",
        "for epoch in range(n_epoch):\n",
        "  # loop over batches\n",
        "  for i, batch in enumerate(data_loader):\n",
        "    # retrieve inputs and labels for this batch\n",
        "    x_batch, y_batch = batch\n",
        "    # zero the parameter gradients\n",
        "    optimizer.zero_grad()\n",
        "    # forward pass -- calculate model output\n",
        "    pred = model(x_batch)\n",
        "    # compute the loss\n",
        "    loss = loss_function(pred, y_batch)\n",
        "    # backward pass\n",
        "    loss.backward()\n",
        "    # SGD update\n",
        "    optimizer.step()\n",
        "\n",
        "  # Run whole dataset to get statistics -- normally wouldn't do this\n",
        "  pred_train = model(x_train)\n",
        "  pred_test = model(x_test)\n",
        "  _, predicted_train_class = torch.max(pred_train.data, 1)\n",
        "  _, predicted_test_class = torch.max(pred_test.data, 1)\n",
        "  errors_train[epoch] = 100 - 100 * (predicted_train_class == y_train).float().sum() / len(y_train)\n",
        "  errors_test[epoch]= 100 - 100 * (predicted_test_class == y_test).float().sum() / len(y_test)\n",
        "  losses_train[epoch] = loss_function(pred_train, y_train).item()\n",
        "  losses_test[epoch]= loss_function(pred_test, y_test).item()\n",
        "  print(f'Epoch {epoch:5d}, train loss {losses_train[epoch]:.6f}, train error {errors_train[epoch]:3.2f},  test loss {losses_test[epoch]:.6f}, test error {errors_test[epoch]:3.2f}')\n",
        "\n",
        "  # tell scheduler to consider updating learning rate\n",
        "  scheduler.step()"
      ]
    },
    {
      "cell_type": "code",
      "execution_count": 15,
      "metadata": {
        "id": "yI-l6kA_EH9G",
        "colab": {
          "base_uri": "https://localhost:8080/",
          "height": 927
        },
        "outputId": "f84ab0f1-92c1-4ca1-9d19-2964a0dd509d"
      },
      "outputs": [
        {
          "output_type": "display_data",
          "data": {
            "text/plain": [
              "<Figure size 640x480 with 1 Axes>"
            ],
            "image/png": "[encoded data removed]"
          },
          "metadata": {}
        },
        {
          "output_type": "display_data",
          "data": {
            "text/plain": [
              "<Figure size 640x480 with 1 Axes>"
            ],
            "image/png": "[encoded data removed]"
          },
          "metadata": {}
        }
      ],
      "source": [
        "# Plot the results\n",
        "fig, ax = plt.subplots()\n",
        "ax.plot(errors_train,'r-',label='train')\n",
        "ax.plot(errors_test,'b-',label='test')\n",
        "ax.set_ylim(0,100); ax.set_xlim(0,n_epoch)\n",
        "ax.set_xlabel('Epoch'); ax.set_ylabel('Error')\n",
        "ax.set_title('TrainError %3.2f, Test Error %3.2f'%(errors_train[-1],errors_test[-1]))\n",
        "ax.legend()\n",
        "plt.show()\n",
        "\n",
        "# Plot the results\n",
        "fig, ax = plt.subplots()\n",
        "ax.plot(losses_train,'r-',label='train')\n",
        "ax.plot(losses_test,'b-',label='test')\n",
        "ax.set_xlim(0,n_epoch)\n",
        "ax.set_xlabel('Epoch'); ax.set_ylabel('Loss')\n",
        "ax.set_title('Train loss %3.2f, Test loss %3.2f'%(losses_train[-1],losses_test[-1]))\n",
        "ax.legend()\n",
        "plt.show()"
      ]
    },
    {
      "cell_type": "markdown",
      "metadata": {
        "id": "q-yT6re6GZS4"
      },
      "source": [
        "**TODO**\n",
        "\n",
        "Play with the model -- try changing the number of layers, hidden units, learning rate, batch size, momentum or anything else you like.  See if you can improve the test results.\n",
        "\n",
        "Is it a good idea to optimize the hyperparameters in this way?  Will the final result be a good estimate of the true test performance?\n",
        "\n",
        "\n",
        "I changed the number of hidden units and i observed the test error getting decresed with increased hidden units. As I played around with number of epochs, I observed test error getting worse.\n",
        "\n",
        "I can improve my model by implementing more systematic hyperparameter optimization techniques. Instead of manually adjusting parameters like the exploration rate or gamma, I could use methods like grid search, random search, or even more advanced techniques such as Bayesian optimization. These approaches allow me to explore a wider range of hyperparameter values efficiently, finding better combinations for improved performance.\n",
        "\n",
        "I also implemented cross-validation to avoid overfitting and to estimate the model’s performance on unseen data more accurately. This way, I can ensure that my model generalizes well rather than just fitting the training data. Additionally, using adaptive learning algorithms like Adam or RMSprop could enhance my model, as they adjust the learning rate dynamically during training.\n",
        "\n",
        "Moreover, I can experiment with learning rate schedules or more complex neural network architectures to further boost the performance. If possible, increasing the size of my dataset would also help the model learn better and improve the overall result."
      ]
    },
    {
      "cell_type": "code",
      "source": [],
      "metadata": {
        "id": "ppABYCacMlsJ"
      },
      "execution_count": 15,
      "outputs": []
    }
  ],
  "metadata": {
    "accelerator": "GPU",
    "colab": {
      "gpuType": "T4",
      "provenance": [],
      "include_colab_link": true
    },
    "kernelspec": {
      "display_name": "Python 3",
      "name": "python3"
    },
    "language_info": {
      "name": "python"
    }
  },
  "nbformat": 4,
  "nbformat_minor": 0
}