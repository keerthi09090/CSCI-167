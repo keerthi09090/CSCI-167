{
  "nbformat": 4,
  "nbformat_minor": 0,
  "metadata": {
    "colab": {
      "provenance": [],
      "include_colab_link": true
    },
    "kernelspec": {
      "name": "python3",
      "display_name": "Python 3"
    },
    "language_info": {
      "name": "python"
    }
  },
  "cells": [
    {
      "cell_type": "markdown",
      "metadata": {
        "id": "view-in-github",
        "colab_type": "text"
      },
      "source": [
        "<a href=\"https://colab.research.google.com/github/keerthi09090/CSCI-167/blob/main/Notebook_10_2.ipynb\" target=\"_parent\"><img src=\"https://colab.research.google.com/assets/colab-badge.svg\" alt=\"Open In Colab\"/></a>"
      ]
    },
    {
      "cell_type": "markdown",
      "source": [
        "# **Notebook 10.2: Convolution for MNIST-1D**\n",
        "\n",
        "This notebook investigates a 1D convolutional network for MNIST-1D as in figure 10.7 and 10.8a.\n",
        "\n",
        "Work through the cells below, running each cell in turn. In various places you will see the words \"TODO\". Follow the instructions at these places and make predictions about what is going to happen or write code to complete the functions.\n",
        "\n",
        "Contact me at udlbookmail@gmail.com if you find any mistakes or have any suggestions.\n",
        "\n"
      ],
      "metadata": {
        "id": "t9vk9Elugvmi"
      }
    },
    {
      "cell_type": "code",
      "source": [
        "# Run this if you're in a Colab to install MNIST 1D repository\n",
        "!pip install git+https://github.com/greydanus/mnist1d"
      ],
      "metadata": {
        "id": "D5yLObtZCi9J",
        "colab": {
          "base_uri": "https://localhost:8080/"
        },
        "outputId": "1f828557-c90e-49fd-bfad-67256f4e35a6"
      },
      "execution_count": 1,
      "outputs": [
        {
          "output_type": "stream",
          "name": "stdout",
          "text": [
            "Collecting git+https://github.com/greydanus/mnist1d\n",
            "  Cloning https://github.com/greydanus/mnist1d to /tmp/pip-req-build-i7x18ur0\n",
            "  Running command git clone --filter=blob:none --quiet https://github.com/greydanus/mnist1d /tmp/pip-req-build-i7x18ur0\n",
            "  Resolved https://github.com/greydanus/mnist1d to commit 7878d96082abd200c546a07a4101fa90b30fdf7e\n",
            "  Installing build dependencies ... \u001b[?25l\u001b[?25hdone\n",
            "  Getting requirements to build wheel ... \u001b[?25l\u001b[?25hdone\n",
            "  Preparing metadata (pyproject.toml) ... \u001b[?25l\u001b[?25hdone\n",
            "Requirement already satisfied: requests in /usr/local/lib/python3.12/dist-packages (from mnist1d==0.0.2.post16) (2.32.4)\n",
            "Requirement already satisfied: numpy in /usr/local/lib/python3.12/dist-packages (from mnist1d==0.0.2.post16) (2.0.2)\n",
            "Requirement already satisfied: matplotlib in /usr/local/lib/python3.12/dist-packages (from mnist1d==0.0.2.post16) (3.10.0)\n",
            "Requirement already satisfied: scipy in /usr/local/lib/python3.12/dist-packages (from mnist1d==0.0.2.post16) (1.16.2)\n",
            "Requirement already satisfied: contourpy>=1.0.1 in /usr/local/lib/python3.12/dist-packages (from matplotlib->mnist1d==0.0.2.post16) (1.3.3)\n",
            "Requirement already satisfied: cycler>=0.10 in /usr/local/lib/python3.12/dist-packages (from matplotlib->mnist1d==0.0.2.post16) (0.12.1)\n",
            "Requirement already satisfied: fonttools>=4.22.0 in /usr/local/lib/python3.12/dist-packages (from matplotlib->mnist1d==0.0.2.post16) (4.60.1)\n",
            "Requirement already satisfied: kiwisolver>=1.3.1 in /usr/local/lib/python3.12/dist-packages (from matplotlib->mnist1d==0.0.2.post16) (1.4.9)\n",
            "Requirement already satisfied: packaging>=20.0 in /usr/local/lib/python3.12/dist-packages (from matplotlib->mnist1d==0.0.2.post16) (25.0)\n",
            "Requirement already satisfied: pillow>=8 in /usr/local/lib/python3.12/dist-packages (from matplotlib->mnist1d==0.0.2.post16) (11.3.0)\n",
            "Requirement already satisfied: pyparsing>=2.3.1 in /usr/local/lib/python3.12/dist-packages (from matplotlib->mnist1d==0.0.2.post16) (3.2.5)\n",
            "Requirement already satisfied: python-dateutil>=2.7 in /usr/local/lib/python3.12/dist-packages (from matplotlib->mnist1d==0.0.2.post16) (2.9.0.post0)\n",
            "Requirement already satisfied: charset_normalizer<4,>=2 in /usr/local/lib/python3.12/dist-packages (from requests->mnist1d==0.0.2.post16) (3.4.4)\n",
            "Requirement already satisfied: idna<4,>=2.5 in /usr/local/lib/python3.12/dist-packages (from requests->mnist1d==0.0.2.post16) (3.11)\n",
            "Requirement already satisfied: urllib3<3,>=1.21.1 in /usr/local/lib/python3.12/dist-packages (from requests->mnist1d==0.0.2.post16) (2.5.0)\n",
            "Requirement already satisfied: certifi>=2017.4.17 in /usr/local/lib/python3.12/dist-packages (from requests->mnist1d==0.0.2.post16) (2025.10.5)\n",
            "Requirement already satisfied: six>=1.5 in /usr/local/lib/python3.12/dist-packages (from python-dateutil>=2.7->matplotlib->mnist1d==0.0.2.post16) (1.17.0)\n",
            "Building wheels for collected packages: mnist1d\n",
            "  Building wheel for mnist1d (pyproject.toml) ... \u001b[?25l\u001b[?25hdone\n",
            "  Created wheel for mnist1d: filename=mnist1d-0.0.2.post16-py3-none-any.whl size=14665 sha256=252775fb134732266bc3c9c05e3004fbdc4546ddcd525545f1047f800a3271fd\n",
            "  Stored in directory: /tmp/pip-ephem-wheel-cache-qkb7ezi2/wheels/18/40/b6/29381fee9b4c80fdbc304d52bb065a7286bbcca5ca2b8737c0\n",
            "Successfully built mnist1d\n",
            "Installing collected packages: mnist1d\n",
            "Successfully installed mnist1d-0.0.2.post16\n"
          ]
        }
      ]
    },
    {
      "cell_type": "code",
      "source": [
        "import numpy as np\n",
        "import os\n",
        "import torch, torch.nn as nn\n",
        "from torch.utils.data import TensorDataset, DataLoader\n",
        "from torch.optim.lr_scheduler import StepLR\n",
        "import matplotlib.pyplot as plt\n",
        "import mnist1d\n",
        "import random"
      ],
      "metadata": {
        "id": "YrXWAH7sUWvU"
      },
      "execution_count": 2,
      "outputs": []
    },
    {
      "cell_type": "code",
      "source": [
        "args = mnist1d.data.get_dataset_args()\n",
        "data = mnist1d.data.get_dataset(args, path='./mnist1d_data.pkl', download=False, regenerate=False)\n",
        "\n",
        "# The training and test input and outputs are in\n",
        "# data['x'], data['y'], data['x_test'], and data['y_test']\n",
        "print(\"Examples in training set: {}\".format(len(data['y'])))\n",
        "print(\"Examples in test set: {}\".format(len(data['y_test'])))\n",
        "print(\"Length of each example: {}\".format(data['x'].shape[-1]))"
      ],
      "metadata": {
        "id": "twI72ZCrCt5z",
        "colab": {
          "base_uri": "https://localhost:8080/"
        },
        "outputId": "318db26b-8138-445c-ad28-b86b8c6571f8"
      },
      "execution_count": 3,
      "outputs": [
        {
          "output_type": "stream",
          "name": "stdout",
          "text": [
            "Did or could not load data from ./mnist1d_data.pkl. Rebuilding dataset...\n",
            "Examples in training set: 4000\n",
            "Examples in test set: 1000\n",
            "Length of each example: 40\n"
          ]
        }
      ]
    },
    {
      "cell_type": "code",
      "source": [
        "# Load in the data\n",
        "train_data_x = data['x'].transpose()\n",
        "train_data_y = data['y']\n",
        "val_data_x = data['x_test'].transpose()\n",
        "val_data_y = data['y_test']\n",
        "# Print out sizes\n",
        "print(\"Train data: %d examples (columns), each of which has %d dimensions (rows)\"%((train_data_x.shape[1],train_data_x.shape[0])))\n",
        "print(\"Validation data: %d examples (columns), each of which has %d dimensions (rows)\"%((val_data_x.shape[1],val_data_x.shape[0])))"
      ],
      "metadata": {
        "id": "8bKADvLHbiV5",
        "colab": {
          "base_uri": "https://localhost:8080/"
        },
        "outputId": "5dc1bd96-5f03-4d3c-c3f8-e13152983d18"
      },
      "execution_count": 4,
      "outputs": [
        {
          "output_type": "stream",
          "name": "stdout",
          "text": [
            "Train data: 4000 examples (columns), each of which has 40 dimensions (rows)\n",
            "Validation data: 1000 examples (columns), each of which has 40 dimensions (rows)\n"
          ]
        }
      ]
    },
    {
      "cell_type": "markdown",
      "source": [
        "Define the network"
      ],
      "metadata": {
        "id": "_sFvRDGrl4qe"
      }
    },
    {
      "cell_type": "code",
      "source": [
        "# There are 40 input dimensions and 10 output dimensions for this data\n",
        "# The inputs correspond to the 40 offsets in the MNIST1D template.\n",
        "D_i = 40\n",
        "# The outputs correspond to the 10 digits\n",
        "D_o = 10\n",
        "\n",
        "\n",
        "# TODO Create a model with the following layers\n",
        "model = nn.Sequential(\n",
        "    nn.Conv1d(in_channels=1, out_channels=15, kernel_size=3, stride=2, padding='valid'),  # Input: length 40, channels: 1 -> Output: length 19, channels: 15\n",
        "    nn.ReLU(),\n",
        "    nn.Conv1d(in_channels=15, out_channels=15, kernel_size=3, stride=2, padding='valid'),  # Input: length 19, channels: 15 -> Output: length 9, channels: 15\n",
        "    nn.ReLU(),\n",
        "    nn.Conv1d(in_channels=15, out_channels=15, kernel_size=3, stride=2, padding='valid'),  # Input: length 9, channels: 15 -> Output: length 4, channels: 15\n",
        "    nn.ReLU(),\n",
        "    nn.Flatten(),  # Flatten the output to (batch_size, 60)\n",
        "    nn.Linear(60, 10)  # Input size: 60 (4 * 15), Output size: 10 (for the digits)\n",
        ")\n",
        "\n",
        "\n",
        "\n",
        "\n",
        "\n"
      ],
      "metadata": {
        "id": "FslroPJJffrh"
      },
      "execution_count": 8,
      "outputs": []
    },
    {
      "cell_type": "code",
      "source": [
        "# He initialization of weights\n",
        "def weights_init(layer_in):\n",
        "  if isinstance(layer_in, nn.Linear):\n",
        "    nn.init.kaiming_uniform_(layer_in.weight)\n",
        "    layer_in.bias.data.fill_(0.0)"
      ],
      "metadata": {
        "id": "YgLaex1pfhqz"
      },
      "execution_count": 9,
      "outputs": []
    },
    {
      "cell_type": "code",
      "source": [
        "# choose cross entropy loss function (equation 5.24 in the loss notes)\n",
        "loss_function = nn.CrossEntropyLoss()\n",
        "# construct SGD optimizer and initialize learning rate and momentum\n",
        "optimizer = torch.optim.SGD(model.parameters(), lr = 0.05, momentum=0.9)\n",
        "# object that decreases learning rate by half every 20 epochs\n",
        "scheduler = StepLR(optimizer, step_size=20, gamma=0.5)\n",
        "# create 100 dummy data points and store in data loader class\n",
        "x_train = torch.tensor(train_data_x.transpose().astype('float32'))\n",
        "y_train = torch.tensor(train_data_y.astype('long')).long()\n",
        "x_val= torch.tensor(val_data_x.transpose().astype('float32'))\n",
        "y_val = torch.tensor(val_data_y.astype('long')).long()\n",
        "\n",
        "# load the data into a class that creates the batches\n",
        "data_loader = DataLoader(TensorDataset(x_train,y_train), batch_size=100, shuffle=True, worker_init_fn=np.random.seed(1))\n",
        "\n",
        "# Initialize model weights\n",
        "model.apply(weights_init)\n",
        "\n",
        "# loop over the dataset n_epoch times\n",
        "n_epoch = 100\n",
        "# store the loss and the % correct at each epoch\n",
        "losses_train = np.zeros((n_epoch))\n",
        "errors_train = np.zeros((n_epoch))\n",
        "losses_val = np.zeros((n_epoch))\n",
        "errors_val = np.zeros((n_epoch))\n",
        "\n",
        "for epoch in range(n_epoch):\n",
        "  # loop over batches\n",
        "  for i, data in enumerate(data_loader):\n",
        "    # retrieve inputs and labels for this batch\n",
        "    x_batch, y_batch = data\n",
        "    # zero the parameter gradients\n",
        "    optimizer.zero_grad()\n",
        "    # forward pass -- calculate model output\n",
        "    pred = model(x_batch[:,None,:])\n",
        "    # compute the loss\n",
        "    loss = loss_function(pred, y_batch)\n",
        "    # backward pass\n",
        "    loss.backward()\n",
        "    # SGD update\n",
        "    optimizer.step()\n",
        "\n",
        "  # Run whole dataset to get statistics -- normally wouldn't do this\n",
        "  pred_train = model(x_train[:,None,:])\n",
        "  pred_val = model(x_val[:,None,:])\n",
        "  _, predicted_train_class = torch.max(pred_train.data, 1)\n",
        "  _, predicted_val_class = torch.max(pred_val.data, 1)\n",
        "  errors_train[epoch] = 100 - 100 * (predicted_train_class == y_train).float().sum() / len(y_train)\n",
        "  errors_val[epoch]= 100 - 100 * (predicted_val_class == y_val).float().sum() / len(y_val)\n",
        "  losses_train[epoch] = loss_function(pred_train, y_train).item()\n",
        "  losses_val[epoch]= loss_function(pred_val, y_val).item()\n",
        "  print(f'Epoch {epoch:5d}, train loss {losses_train[epoch]:.6f}, train error {errors_train[epoch]:3.2f},  val loss {losses_val[epoch]:.6f}, percent error {errors_val[epoch]:3.2f}')\n",
        "\n",
        "  # tell scheduler to consider updating learning rate\n",
        "  scheduler.step()\n",
        "\n",
        "# Plot the results\n",
        "fig, ax = plt.subplots()\n",
        "ax.plot(errors_train,'r-',label='train')\n",
        "ax.plot(errors_val,'b-',label='validation')\n",
        "ax.set_ylim(0,100); ax.set_xlim(0,n_epoch)\n",
        "ax.set_xlabel('Epoch'); ax.set_ylabel('Error')\n",
        "ax.set_title('Part I: Validation Result %3.2f'%(errors_val[-1]))\n",
        "ax.legend()\n",
        "plt.show()"
      ],
      "metadata": {
        "id": "NYw8I_3mmX5c",
        "colab": {
          "base_uri": "https://localhost:8080/",
          "height": 1000
        },
        "outputId": "cd59b53f-16c5-4995-cd6d-be6790173614"
      },
      "execution_count": 10,
      "outputs": [
        {
          "output_type": "stream",
          "name": "stdout",
          "text": [
            "Epoch     0, train loss 1.966942, train error 75.90,  val loss 1.955172, percent error 76.60\n",
            "Epoch     1, train loss 1.501385, train error 60.35,  val loss 1.529302, percent error 63.70\n",
            "Epoch     2, train loss 1.359146, train error 55.72,  val loss 1.389172, percent error 59.60\n",
            "Epoch     3, train loss 1.290883, train error 52.67,  val loss 1.314313, percent error 55.90\n",
            "Epoch     4, train loss 1.190687, train error 47.30,  val loss 1.216802, percent error 49.40\n",
            "Epoch     5, train loss 1.179130, train error 45.80,  val loss 1.211191, percent error 48.20\n",
            "Epoch     6, train loss 1.061312, train error 42.15,  val loss 1.096553, percent error 45.00\n",
            "Epoch     7, train loss 0.961638, train error 38.70,  val loss 1.022895, percent error 41.40\n",
            "Epoch     8, train loss 0.950319, train error 39.12,  val loss 1.008451, percent error 41.00\n",
            "Epoch     9, train loss 0.847726, train error 33.20,  val loss 0.905084, percent error 35.00\n",
            "Epoch    10, train loss 0.753553, train error 29.38,  val loss 0.833536, percent error 33.40\n",
            "Epoch    11, train loss 0.723854, train error 29.78,  val loss 0.802303, percent error 33.70\n",
            "Epoch    12, train loss 0.632826, train error 23.93,  val loss 0.717875, percent error 28.20\n",
            "Epoch    13, train loss 0.622370, train error 22.97,  val loss 0.708211, percent error 25.50\n",
            "Epoch    14, train loss 0.527466, train error 20.12,  val loss 0.622606, percent error 23.50\n",
            "Epoch    15, train loss 0.541487, train error 20.20,  val loss 0.620715, percent error 22.70\n",
            "Epoch    16, train loss 0.435171, train error 15.53,  val loss 0.552920, percent error 19.90\n",
            "Epoch    17, train loss 0.421995, train error 15.35,  val loss 0.511969, percent error 18.00\n",
            "Epoch    18, train loss 0.365604, train error 12.47,  val loss 0.470223, percent error 17.30\n",
            "Epoch    19, train loss 0.282239, train error 9.93,  val loss 0.416926, percent error 15.30\n",
            "Epoch    20, train loss 0.234978, train error 7.50,  val loss 0.366081, percent error 13.10\n",
            "Epoch    21, train loss 0.222700, train error 7.57,  val loss 0.371452, percent error 12.70\n",
            "Epoch    22, train loss 0.219589, train error 7.38,  val loss 0.369659, percent error 12.80\n",
            "Epoch    23, train loss 0.228530, train error 8.40,  val loss 0.404506, percent error 13.50\n",
            "Epoch    24, train loss 0.211559, train error 7.28,  val loss 0.396377, percent error 13.00\n",
            "Epoch    25, train loss 0.210090, train error 7.28,  val loss 0.384823, percent error 13.00\n",
            "Epoch    26, train loss 0.177023, train error 5.50,  val loss 0.360521, percent error 12.50\n",
            "Epoch    27, train loss 0.169588, train error 5.47,  val loss 0.368653, percent error 12.00\n",
            "Epoch    28, train loss 0.150625, train error 4.93,  val loss 0.355939, percent error 11.30\n",
            "Epoch    29, train loss 0.168387, train error 5.97,  val loss 0.392687, percent error 12.20\n",
            "Epoch    30, train loss 0.140619, train error 4.53,  val loss 0.354773, percent error 11.30\n",
            "Epoch    31, train loss 0.141107, train error 4.55,  val loss 0.356506, percent error 11.10\n",
            "Epoch    32, train loss 0.130548, train error 4.22,  val loss 0.365343, percent error 10.50\n",
            "Epoch    33, train loss 0.204612, train error 7.28,  val loss 0.434321, percent error 13.30\n",
            "Epoch    34, train loss 0.125323, train error 4.05,  val loss 0.356078, percent error 11.10\n",
            "Epoch    35, train loss 0.148683, train error 5.30,  val loss 0.388168, percent error 12.10\n",
            "Epoch    36, train loss 0.128802, train error 4.50,  val loss 0.391375, percent error 11.00\n",
            "Epoch    37, train loss 0.111413, train error 3.65,  val loss 0.384494, percent error 10.90\n",
            "Epoch    38, train loss 0.112320, train error 3.43,  val loss 0.389436, percent error 11.00\n",
            "Epoch    39, train loss 0.095862, train error 3.00,  val loss 0.355786, percent error 10.60\n",
            "Epoch    40, train loss 0.083335, train error 2.20,  val loss 0.356413, percent error 9.80\n",
            "Epoch    41, train loss 0.076918, train error 2.38,  val loss 0.365857, percent error 10.20\n",
            "Epoch    42, train loss 0.077979, train error 2.20,  val loss 0.360972, percent error 10.50\n",
            "Epoch    43, train loss 0.071601, train error 2.12,  val loss 0.375932, percent error 10.10\n",
            "Epoch    44, train loss 0.074480, train error 2.10,  val loss 0.371349, percent error 10.10\n",
            "Epoch    45, train loss 0.069090, train error 2.00,  val loss 0.369442, percent error 10.00\n",
            "Epoch    46, train loss 0.093409, train error 3.15,  val loss 0.386399, percent error 10.70\n",
            "Epoch    47, train loss 0.065571, train error 1.80,  val loss 0.377473, percent error 10.40\n",
            "Epoch    48, train loss 0.066267, train error 1.68,  val loss 0.369020, percent error 10.00\n",
            "Epoch    49, train loss 0.061930, train error 1.62,  val loss 0.382036, percent error 10.20\n",
            "Epoch    50, train loss 0.060128, train error 1.50,  val loss 0.383054, percent error 10.30\n",
            "Epoch    51, train loss 0.064296, train error 1.88,  val loss 0.379622, percent error 10.50\n",
            "Epoch    52, train loss 0.057290, train error 1.53,  val loss 0.385387, percent error 9.80\n",
            "Epoch    53, train loss 0.061988, train error 1.72,  val loss 0.396731, percent error 10.50\n",
            "Epoch    54, train loss 0.057209, train error 1.50,  val loss 0.391188, percent error 10.60\n",
            "Epoch    55, train loss 0.062299, train error 1.70,  val loss 0.400837, percent error 10.10\n",
            "Epoch    56, train loss 0.058989, train error 1.65,  val loss 0.419086, percent error 11.40\n",
            "Epoch    57, train loss 0.047968, train error 1.05,  val loss 0.399969, percent error 10.70\n",
            "Epoch    58, train loss 0.049818, train error 1.03,  val loss 0.401622, percent error 10.40\n",
            "Epoch    59, train loss 0.051276, train error 1.22,  val loss 0.418460, percent error 10.10\n",
            "Epoch    60, train loss 0.044868, train error 0.95,  val loss 0.406934, percent error 10.70\n",
            "Epoch    61, train loss 0.043460, train error 0.82,  val loss 0.410787, percent error 10.40\n",
            "Epoch    62, train loss 0.046759, train error 1.20,  val loss 0.413408, percent error 10.30\n",
            "Epoch    63, train loss 0.042818, train error 0.75,  val loss 0.413344, percent error 10.60\n",
            "Epoch    64, train loss 0.043186, train error 0.80,  val loss 0.419799, percent error 10.80\n",
            "Epoch    65, train loss 0.041901, train error 0.72,  val loss 0.413920, percent error 10.50\n",
            "Epoch    66, train loss 0.042512, train error 0.80,  val loss 0.427679, percent error 10.80\n",
            "Epoch    67, train loss 0.040870, train error 0.72,  val loss 0.423496, percent error 10.70\n",
            "Epoch    68, train loss 0.039295, train error 0.62,  val loss 0.419263, percent error 10.80\n",
            "Epoch    69, train loss 0.040031, train error 0.62,  val loss 0.414837, percent error 10.50\n",
            "Epoch    70, train loss 0.040199, train error 0.68,  val loss 0.418852, percent error 10.60\n",
            "Epoch    71, train loss 0.038194, train error 0.70,  val loss 0.425158, percent error 10.40\n",
            "Epoch    72, train loss 0.038178, train error 0.53,  val loss 0.430845, percent error 10.70\n",
            "Epoch    73, train loss 0.037306, train error 0.53,  val loss 0.435499, percent error 11.10\n",
            "Epoch    74, train loss 0.037671, train error 0.50,  val loss 0.428736, percent error 10.70\n",
            "Epoch    75, train loss 0.035738, train error 0.53,  val loss 0.429387, percent error 11.00\n",
            "Epoch    76, train loss 0.037161, train error 0.68,  val loss 0.436481, percent error 11.10\n",
            "Epoch    77, train loss 0.034529, train error 0.55,  val loss 0.435539, percent error 10.70\n",
            "Epoch    78, train loss 0.035623, train error 0.55,  val loss 0.443182, percent error 10.90\n",
            "Epoch    79, train loss 0.034339, train error 0.47,  val loss 0.437131, percent error 10.70\n",
            "Epoch    80, train loss 0.034116, train error 0.47,  val loss 0.446173, percent error 10.80\n",
            "Epoch    81, train loss 0.034657, train error 0.50,  val loss 0.449921, percent error 10.80\n",
            "Epoch    82, train loss 0.032779, train error 0.35,  val loss 0.442943, percent error 11.00\n",
            "Epoch    83, train loss 0.032126, train error 0.45,  val loss 0.441329, percent error 10.70\n",
            "Epoch    84, train loss 0.032053, train error 0.43,  val loss 0.444817, percent error 10.90\n",
            "Epoch    85, train loss 0.033343, train error 0.40,  val loss 0.454585, percent error 10.70\n",
            "Epoch    86, train loss 0.031797, train error 0.30,  val loss 0.446586, percent error 10.80\n",
            "Epoch    87, train loss 0.032118, train error 0.38,  val loss 0.443153, percent error 10.70\n",
            "Epoch    88, train loss 0.031319, train error 0.38,  val loss 0.447700, percent error 10.80\n",
            "Epoch    89, train loss 0.030953, train error 0.32,  val loss 0.447134, percent error 10.60\n",
            "Epoch    90, train loss 0.032808, train error 0.53,  val loss 0.444165, percent error 10.70\n",
            "Epoch    91, train loss 0.032559, train error 0.53,  val loss 0.445201, percent error 10.70\n",
            "Epoch    92, train loss 0.030695, train error 0.40,  val loss 0.446774, percent error 10.60\n",
            "Epoch    93, train loss 0.030111, train error 0.40,  val loss 0.450323, percent error 10.90\n",
            "Epoch    94, train loss 0.029861, train error 0.35,  val loss 0.450090, percent error 10.80\n",
            "Epoch    95, train loss 0.030026, train error 0.38,  val loss 0.452947, percent error 10.80\n",
            "Epoch    96, train loss 0.029641, train error 0.32,  val loss 0.454990, percent error 10.80\n",
            "Epoch    97, train loss 0.029438, train error 0.35,  val loss 0.453854, percent error 10.80\n",
            "Epoch    98, train loss 0.029242, train error 0.38,  val loss 0.453506, percent error 10.70\n",
            "Epoch    99, train loss 0.028937, train error 0.28,  val loss 0.452495, percent error 10.60\n"
          ]
        },
        {
          "output_type": "display_data",
          "data": {
            "text/plain": [
              "<Figure size 640x480 with 1 Axes>"
            ],
            "image/png": "[encoded data removed]"
          },
          "metadata": {}
        }
      ]
    }
  ]
}